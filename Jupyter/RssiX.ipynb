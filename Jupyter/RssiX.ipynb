{
 "cells": [
  {
   "cell_type": "code",
   "execution_count": 16,
   "metadata": {},
   "outputs": [],
   "source": [
    "from __future__ import division\n",
    "import numpy as np\n",
    "import pandas as pd\n",
    "import matplotlib.pyplot as plt\n",
    "\n",
    "from sklearn import datasets, metrics, neighbors\n",
    "\n",
    "from sklearn.neighbors import KNeighborsClassifier \n",
    "%matplotlib inline\n",
    "\n",
    "from sklearn.model_selection import train_test_split\n",
    "\n"
   ]
  },
  {
   "cell_type": "code",
   "execution_count": 2,
   "metadata": {},
   "outputs": [
    {
     "name": "stdout",
     "output_type": "stream",
     "text": [
      "/home/thiago/Documents/TCC/base\n"
     ]
    }
   ],
   "source": [
    "cd Documents/TCC/base/"
   ]
  },
  {
   "cell_type": "code",
   "execution_count": 3,
   "metadata": {},
   "outputs": [],
   "source": [
    "londres = pd.read_csv('rssi.csv')"
   ]
  },
  {
   "cell_type": "code",
   "execution_count": 4,
   "metadata": {},
   "outputs": [
    {
     "data": {
      "text/html": [
       "<div>\n",
       "<style scoped>\n",
       "    .dataframe tbody tr th:only-of-type {\n",
       "        vertical-align: middle;\n",
       "    }\n",
       "\n",
       "    .dataframe tbody tr th {\n",
       "        vertical-align: top;\n",
       "    }\n",
       "\n",
       "    .dataframe thead th {\n",
       "        text-align: right;\n",
       "    }\n",
       "</style>\n",
       "<table border=\"1\" class=\"dataframe\">\n",
       "  <thead>\n",
       "    <tr style=\"text-align: right;\">\n",
       "      <th></th>\n",
       "      <th>N3</th>\n",
       "      <th>N4</th>\n",
       "      <th>N2</th>\n",
       "      <th>Distância</th>\n",
       "      <th>Ângulo</th>\n",
       "      <th>Label</th>\n",
       "    </tr>\n",
       "  </thead>\n",
       "  <tbody>\n",
       "    <tr>\n",
       "      <th>0</th>\n",
       "      <td>-58</td>\n",
       "      <td>-59</td>\n",
       "      <td>-40</td>\n",
       "      <td>5</td>\n",
       "      <td>0</td>\n",
       "      <td>5_0</td>\n",
       "    </tr>\n",
       "    <tr>\n",
       "      <th>1</th>\n",
       "      <td>-55</td>\n",
       "      <td>-59</td>\n",
       "      <td>-41</td>\n",
       "      <td>5</td>\n",
       "      <td>0</td>\n",
       "      <td>5_0</td>\n",
       "    </tr>\n",
       "    <tr>\n",
       "      <th>2</th>\n",
       "      <td>-54</td>\n",
       "      <td>-59</td>\n",
       "      <td>-42</td>\n",
       "      <td>5</td>\n",
       "      <td>0</td>\n",
       "      <td>5_0</td>\n",
       "    </tr>\n",
       "    <tr>\n",
       "      <th>3</th>\n",
       "      <td>-60</td>\n",
       "      <td>-58</td>\n",
       "      <td>-41</td>\n",
       "      <td>5</td>\n",
       "      <td>0</td>\n",
       "      <td>5_0</td>\n",
       "    </tr>\n",
       "    <tr>\n",
       "      <th>4</th>\n",
       "      <td>-60</td>\n",
       "      <td>-56</td>\n",
       "      <td>-41</td>\n",
       "      <td>5</td>\n",
       "      <td>0</td>\n",
       "      <td>5_0</td>\n",
       "    </tr>\n",
       "  </tbody>\n",
       "</table>\n",
       "</div>"
      ],
      "text/plain": [
       "   N3  N4  N2  Distância  Ângulo Label\n",
       "0 -58 -59 -40          5       0   5_0\n",
       "1 -55 -59 -41          5       0   5_0\n",
       "2 -54 -59 -42          5       0   5_0\n",
       "3 -60 -58 -41          5       0   5_0\n",
       "4 -60 -56 -41          5       0   5_0"
      ]
     },
     "execution_count": 4,
     "metadata": {},
     "output_type": "execute_result"
    }
   ],
   "source": [
    "londres.head(5)"
   ]
  },
  {
   "cell_type": "code",
   "execution_count": 63,
   "metadata": {},
   "outputs": [],
   "source": [
    "londres['Label'] = londres['Label'].astype('category').cat.codes"
   ]
  },
  {
   "cell_type": "code",
   "execution_count": 64,
   "metadata": {},
   "outputs": [
    {
     "data": {
      "text/html": [
       "<div>\n",
       "<style scoped>\n",
       "    .dataframe tbody tr th:only-of-type {\n",
       "        vertical-align: middle;\n",
       "    }\n",
       "\n",
       "    .dataframe tbody tr th {\n",
       "        vertical-align: top;\n",
       "    }\n",
       "\n",
       "    .dataframe thead th {\n",
       "        text-align: right;\n",
       "    }\n",
       "</style>\n",
       "<table border=\"1\" class=\"dataframe\">\n",
       "  <thead>\n",
       "    <tr style=\"text-align: right;\">\n",
       "      <th></th>\n",
       "      <th>N3</th>\n",
       "      <th>N4</th>\n",
       "      <th>N2</th>\n",
       "      <th>Distância</th>\n",
       "      <th>Ângulo</th>\n",
       "      <th>Label</th>\n",
       "    </tr>\n",
       "  </thead>\n",
       "  <tbody>\n",
       "    <tr>\n",
       "      <th>0</th>\n",
       "      <td>-0.905509</td>\n",
       "      <td>1.146136</td>\n",
       "      <td>1.538036</td>\n",
       "      <td>5</td>\n",
       "      <td>0</td>\n",
       "      <td>35</td>\n",
       "    </tr>\n",
       "    <tr>\n",
       "      <th>1</th>\n",
       "      <td>-0.434568</td>\n",
       "      <td>1.146136</td>\n",
       "      <td>1.370314</td>\n",
       "      <td>5</td>\n",
       "      <td>0</td>\n",
       "      <td>35</td>\n",
       "    </tr>\n",
       "    <tr>\n",
       "      <th>2</th>\n",
       "      <td>-0.277588</td>\n",
       "      <td>1.146136</td>\n",
       "      <td>1.202592</td>\n",
       "      <td>5</td>\n",
       "      <td>0</td>\n",
       "      <td>35</td>\n",
       "    </tr>\n",
       "    <tr>\n",
       "      <th>3</th>\n",
       "      <td>-1.219470</td>\n",
       "      <td>1.361629</td>\n",
       "      <td>1.370314</td>\n",
       "      <td>5</td>\n",
       "      <td>0</td>\n",
       "      <td>35</td>\n",
       "    </tr>\n",
       "    <tr>\n",
       "      <th>4</th>\n",
       "      <td>-1.219470</td>\n",
       "      <td>1.792615</td>\n",
       "      <td>1.370314</td>\n",
       "      <td>5</td>\n",
       "      <td>0</td>\n",
       "      <td>35</td>\n",
       "    </tr>\n",
       "    <tr>\n",
       "      <th>5</th>\n",
       "      <td>-1.376450</td>\n",
       "      <td>1.577122</td>\n",
       "      <td>1.370314</td>\n",
       "      <td>5</td>\n",
       "      <td>0</td>\n",
       "      <td>35</td>\n",
       "    </tr>\n",
       "    <tr>\n",
       "      <th>6</th>\n",
       "      <td>-1.533431</td>\n",
       "      <td>1.577122</td>\n",
       "      <td>0.867148</td>\n",
       "      <td>5</td>\n",
       "      <td>0</td>\n",
       "      <td>35</td>\n",
       "    </tr>\n",
       "    <tr>\n",
       "      <th>7</th>\n",
       "      <td>-1.690411</td>\n",
       "      <td>1.577122</td>\n",
       "      <td>0.867148</td>\n",
       "      <td>5</td>\n",
       "      <td>0</td>\n",
       "      <td>35</td>\n",
       "    </tr>\n",
       "    <tr>\n",
       "      <th>8</th>\n",
       "      <td>-1.847391</td>\n",
       "      <td>0.930644</td>\n",
       "      <td>1.034870</td>\n",
       "      <td>5</td>\n",
       "      <td>0</td>\n",
       "      <td>35</td>\n",
       "    </tr>\n",
       "    <tr>\n",
       "      <th>9</th>\n",
       "      <td>-1.847391</td>\n",
       "      <td>1.146136</td>\n",
       "      <td>0.699426</td>\n",
       "      <td>5</td>\n",
       "      <td>0</td>\n",
       "      <td>35</td>\n",
       "    </tr>\n",
       "  </tbody>\n",
       "</table>\n",
       "</div>"
      ],
      "text/plain": [
       "         N3        N4        N2  Distância  Ângulo  Label\n",
       "0 -0.905509  1.146136  1.538036          5       0     35\n",
       "1 -0.434568  1.146136  1.370314          5       0     35\n",
       "2 -0.277588  1.146136  1.202592          5       0     35\n",
       "3 -1.219470  1.361629  1.370314          5       0     35\n",
       "4 -1.219470  1.792615  1.370314          5       0     35\n",
       "5 -1.376450  1.577122  1.370314          5       0     35\n",
       "6 -1.533431  1.577122  0.867148          5       0     35\n",
       "7 -1.690411  1.577122  0.867148          5       0     35\n",
       "8 -1.847391  0.930644  1.034870          5       0     35\n",
       "9 -1.847391  1.146136  0.699426          5       0     35"
      ]
     },
     "execution_count": 64,
     "metadata": {},
     "output_type": "execute_result"
    }
   ],
   "source": [
    "londres.head(10)"
   ]
  },
  {
   "cell_type": "code",
   "execution_count": 6,
   "metadata": {},
   "outputs": [
    {
     "data": {
      "text/plain": [
       "37    101\n",
       "1     101\n",
       "8     101\n",
       "23    101\n",
       "15    101\n",
       "16    101\n",
       "2     101\n",
       "9     101\n",
       "38    101\n",
       "29    101\n",
       "30    101\n",
       "36    101\n",
       "22    101\n",
       "21    100\n",
       "13    100\n",
       "5     100\n",
       "32    100\n",
       "40    100\n",
       "28    100\n",
       "20    100\n",
       "12    100\n",
       "4     100\n",
       "25    100\n",
       "39    100\n",
       "33    100\n",
       "26    100\n",
       "27    100\n",
       "19    100\n",
       "11    100\n",
       "7     100\n",
       "35    100\n",
       "34    100\n",
       "18    100\n",
       "14    100\n",
       "6     100\n",
       "41    100\n",
       "0     100\n",
       "3      99\n",
       "24     99\n",
       "10     99\n",
       "17     99\n",
       "31     99\n",
       "Name: Label, dtype: int64"
      ]
     },
     "execution_count": 6,
     "metadata": {},
     "output_type": "execute_result"
    }
   ],
   "source": [
    "londres.Label.value_counts()"
   ]
  },
  {
   "cell_type": "code",
   "execution_count": 8,
   "metadata": {},
   "outputs": [
    {
     "data": {
      "text/html": [
       "<div>\n",
       "<style scoped>\n",
       "    .dataframe tbody tr th:only-of-type {\n",
       "        vertical-align: middle;\n",
       "    }\n",
       "\n",
       "    .dataframe tbody tr th {\n",
       "        vertical-align: top;\n",
       "    }\n",
       "\n",
       "    .dataframe thead th {\n",
       "        text-align: right;\n",
       "    }\n",
       "</style>\n",
       "<table border=\"1\" class=\"dataframe\">\n",
       "  <thead>\n",
       "    <tr style=\"text-align: right;\">\n",
       "      <th></th>\n",
       "      <th>N3</th>\n",
       "      <th>N4</th>\n",
       "      <th>N2</th>\n",
       "      <th>Distância</th>\n",
       "      <th>Ângulo</th>\n",
       "      <th>Label</th>\n",
       "    </tr>\n",
       "  </thead>\n",
       "  <tbody>\n",
       "    <tr>\n",
       "      <th>1362</th>\n",
       "      <td>-49</td>\n",
       "      <td>-58</td>\n",
       "      <td>-49</td>\n",
       "      <td>10</td>\n",
       "      <td>180</td>\n",
       "      <td>3</td>\n",
       "    </tr>\n",
       "    <tr>\n",
       "      <th>1985</th>\n",
       "      <td>-44</td>\n",
       "      <td>-61</td>\n",
       "      <td>-44</td>\n",
       "      <td>15</td>\n",
       "      <td>150</td>\n",
       "      <td>9</td>\n",
       "    </tr>\n",
       "    <tr>\n",
       "      <th>3394</th>\n",
       "      <td>-53</td>\n",
       "      <td>-65</td>\n",
       "      <td>-49</td>\n",
       "      <td>25</td>\n",
       "      <td>150</td>\n",
       "      <td>23</td>\n",
       "    </tr>\n",
       "    <tr>\n",
       "      <th>1380</th>\n",
       "      <td>-51</td>\n",
       "      <td>-61</td>\n",
       "      <td>-48</td>\n",
       "      <td>10</td>\n",
       "      <td>180</td>\n",
       "      <td>3</td>\n",
       "    </tr>\n",
       "    <tr>\n",
       "      <th>3585</th>\n",
       "      <td>-62</td>\n",
       "      <td>-76</td>\n",
       "      <td>-54</td>\n",
       "      <td>30</td>\n",
       "      <td>0</td>\n",
       "      <td>28</td>\n",
       "    </tr>\n",
       "    <tr>\n",
       "      <th>540</th>\n",
       "      <td>-40</td>\n",
       "      <td>-56</td>\n",
       "      <td>-41</td>\n",
       "      <td>5</td>\n",
       "      <td>150</td>\n",
       "      <td>37</td>\n",
       "    </tr>\n",
       "    <tr>\n",
       "      <th>3123</th>\n",
       "      <td>-51</td>\n",
       "      <td>-61</td>\n",
       "      <td>-45</td>\n",
       "      <td>25</td>\n",
       "      <td>90</td>\n",
       "      <td>27</td>\n",
       "    </tr>\n",
       "    <tr>\n",
       "      <th>1267</th>\n",
       "      <td>-52</td>\n",
       "      <td>-60</td>\n",
       "      <td>-50</td>\n",
       "      <td>10</td>\n",
       "      <td>150</td>\n",
       "      <td>2</td>\n",
       "    </tr>\n",
       "    <tr>\n",
       "      <th>1355</th>\n",
       "      <td>-55</td>\n",
       "      <td>-59</td>\n",
       "      <td>-44</td>\n",
       "      <td>10</td>\n",
       "      <td>180</td>\n",
       "      <td>3</td>\n",
       "    </tr>\n",
       "    <tr>\n",
       "      <th>3759</th>\n",
       "      <td>-54</td>\n",
       "      <td>-69</td>\n",
       "      <td>-50</td>\n",
       "      <td>30</td>\n",
       "      <td>60</td>\n",
       "      <td>33</td>\n",
       "    </tr>\n",
       "  </tbody>\n",
       "</table>\n",
       "</div>"
      ],
      "text/plain": [
       "      N3  N4  N2  Distância  Ângulo  Label\n",
       "1362 -49 -58 -49         10     180      3\n",
       "1985 -44 -61 -44         15     150      9\n",
       "3394 -53 -65 -49         25     150     23\n",
       "1380 -51 -61 -48         10     180      3\n",
       "3585 -62 -76 -54         30       0     28\n",
       "540  -40 -56 -41          5     150     37\n",
       "3123 -51 -61 -45         25      90     27\n",
       "1267 -52 -60 -50         10     150      2\n",
       "1355 -55 -59 -44         10     180      3\n",
       "3759 -54 -69 -50         30      60     33"
      ]
     },
     "execution_count": 8,
     "metadata": {},
     "output_type": "execute_result"
    }
   ],
   "source": [
    "londres.sample(10)"
   ]
  },
  {
   "cell_type": "code",
   "execution_count": 20,
   "metadata": {},
   "outputs": [],
   "source": [
    "from sklearn.cross_validation import train_test_split"
   ]
  },
  {
   "cell_type": "code",
   "execution_count": 24,
   "metadata": {},
   "outputs": [
    {
     "data": {
      "text/plain": [
       "array([[-58, -59, -40, 5, 0, '5_0'],\n",
       "       [-55, -59, -41, 5, 0, '5_0'],\n",
       "       [-54, -59, -42, 5, 0, '5_0'],\n",
       "       ...,\n",
       "       [-55, -71, -50, 30, 180, '30_180'],\n",
       "       [-55, -70, -51, 30, 180, '30_180'],\n",
       "       [-56, -71, -51, 30, 180, '30_180']], dtype=object)"
      ]
     },
     "execution_count": 24,
     "metadata": {},
     "output_type": "execute_result"
    }
   ],
   "source": [
    "londres.values"
   ]
  },
  {
   "cell_type": "code",
   "execution_count": 26,
   "metadata": {},
   "outputs": [
    {
     "data": {
      "text/plain": [
       "Index(['N3', 'N4', 'N2', 'Distância', 'Ângulo', 'Label'], dtype='object')"
      ]
     },
     "execution_count": 26,
     "metadata": {},
     "output_type": "execute_result"
    }
   ],
   "source": [
    "londres.columns"
   ]
  },
  {
   "cell_type": "code",
   "execution_count": 65,
   "metadata": {},
   "outputs": [
    {
     "data": {
      "text/html": [
       "<div>\n",
       "<style scoped>\n",
       "    .dataframe tbody tr th:only-of-type {\n",
       "        vertical-align: middle;\n",
       "    }\n",
       "\n",
       "    .dataframe tbody tr th {\n",
       "        vertical-align: top;\n",
       "    }\n",
       "\n",
       "    .dataframe thead th {\n",
       "        text-align: right;\n",
       "    }\n",
       "</style>\n",
       "<table border=\"1\" class=\"dataframe\">\n",
       "  <thead>\n",
       "    <tr style=\"text-align: right;\">\n",
       "      <th></th>\n",
       "      <th>N3</th>\n",
       "      <th>N4</th>\n",
       "      <th>N2</th>\n",
       "      <th>Distância</th>\n",
       "      <th>Ângulo</th>\n",
       "      <th>Label</th>\n",
       "    </tr>\n",
       "  </thead>\n",
       "  <tbody>\n",
       "    <tr>\n",
       "      <th>count</th>\n",
       "      <td>4.208000e+03</td>\n",
       "      <td>4.208000e+03</td>\n",
       "      <td>4.208000e+03</td>\n",
       "      <td>4208.000000</td>\n",
       "      <td>4208.000000</td>\n",
       "      <td>4208.000000</td>\n",
       "    </tr>\n",
       "    <tr>\n",
       "      <th>mean</th>\n",
       "      <td>-4.863030e-16</td>\n",
       "      <td>3.782357e-16</td>\n",
       "      <td>-5.943703e-16</td>\n",
       "      <td>17.494059</td>\n",
       "      <td>90.042776</td>\n",
       "      <td>20.504040</td>\n",
       "    </tr>\n",
       "    <tr>\n",
       "      <th>std</th>\n",
       "      <td>1.000000e+00</td>\n",
       "      <td>1.000000e+00</td>\n",
       "      <td>1.000000e+00</td>\n",
       "      <td>8.542457</td>\n",
       "      <td>59.939341</td>\n",
       "      <td>12.125541</td>\n",
       "    </tr>\n",
       "    <tr>\n",
       "      <th>min</th>\n",
       "      <td>-2.632293e+00</td>\n",
       "      <td>-5.318645e+00</td>\n",
       "      <td>-3.996788e+00</td>\n",
       "      <td>5.000000</td>\n",
       "      <td>0.000000</td>\n",
       "      <td>0.000000</td>\n",
       "    </tr>\n",
       "    <tr>\n",
       "      <th>25%</th>\n",
       "      <td>-5.915487e-01</td>\n",
       "      <td>-5.778052e-01</td>\n",
       "      <td>-6.423495e-01</td>\n",
       "      <td>10.000000</td>\n",
       "      <td>30.000000</td>\n",
       "      <td>10.000000</td>\n",
       "    </tr>\n",
       "    <tr>\n",
       "      <th>50%</th>\n",
       "      <td>-2.775881e-01</td>\n",
       "      <td>6.867294e-02</td>\n",
       "      <td>-1.391837e-01</td>\n",
       "      <td>15.000000</td>\n",
       "      <td>90.000000</td>\n",
       "      <td>21.000000</td>\n",
       "    </tr>\n",
       "    <tr>\n",
       "      <th>75%</th>\n",
       "      <td>5.073135e-01</td>\n",
       "      <td>7.151511e-01</td>\n",
       "      <td>5.317041e-01</td>\n",
       "      <td>25.000000</td>\n",
       "      <td>150.000000</td>\n",
       "      <td>31.000000</td>\n",
       "    </tr>\n",
       "    <tr>\n",
       "      <th>max</th>\n",
       "      <td>3.018999e+00</td>\n",
       "      <td>2.654585e+00</td>\n",
       "      <td>2.879811e+00</td>\n",
       "      <td>30.000000</td>\n",
       "      <td>180.000000</td>\n",
       "      <td>41.000000</td>\n",
       "    </tr>\n",
       "  </tbody>\n",
       "</table>\n",
       "</div>"
      ],
      "text/plain": [
       "                 N3            N4            N2    Distância       Ângulo  \\\n",
       "count  4.208000e+03  4.208000e+03  4.208000e+03  4208.000000  4208.000000   \n",
       "mean  -4.863030e-16  3.782357e-16 -5.943703e-16    17.494059    90.042776   \n",
       "std    1.000000e+00  1.000000e+00  1.000000e+00     8.542457    59.939341   \n",
       "min   -2.632293e+00 -5.318645e+00 -3.996788e+00     5.000000     0.000000   \n",
       "25%   -5.915487e-01 -5.778052e-01 -6.423495e-01    10.000000    30.000000   \n",
       "50%   -2.775881e-01  6.867294e-02 -1.391837e-01    15.000000    90.000000   \n",
       "75%    5.073135e-01  7.151511e-01  5.317041e-01    25.000000   150.000000   \n",
       "max    3.018999e+00  2.654585e+00  2.879811e+00    30.000000   180.000000   \n",
       "\n",
       "             Label  \n",
       "count  4208.000000  \n",
       "mean     20.504040  \n",
       "std      12.125541  \n",
       "min       0.000000  \n",
       "25%      10.000000  \n",
       "50%      21.000000  \n",
       "75%      31.000000  \n",
       "max      41.000000  "
      ]
     },
     "execution_count": 65,
     "metadata": {},
     "output_type": "execute_result"
    }
   ],
   "source": [
    "londres.describe()"
   ]
  },
  {
   "cell_type": "code",
   "execution_count": 66,
   "metadata": {
    "scrolled": true
   },
   "outputs": [],
   "source": [
    "#londres.Label.value_counts()"
   ]
  },
  {
   "cell_type": "code",
   "execution_count": 29,
   "metadata": {},
   "outputs": [],
   "source": [
    "for c in ['N3', 'N4', 'N2']:\n",
    "    londres[c] = (londres[c] - londres[c].mean())/londres[c].std()"
   ]
  },
  {
   "cell_type": "code",
   "execution_count": 30,
   "metadata": {},
   "outputs": [
    {
     "data": {
      "text/html": [
       "<div>\n",
       "<style scoped>\n",
       "    .dataframe tbody tr th:only-of-type {\n",
       "        vertical-align: middle;\n",
       "    }\n",
       "\n",
       "    .dataframe tbody tr th {\n",
       "        vertical-align: top;\n",
       "    }\n",
       "\n",
       "    .dataframe thead th {\n",
       "        text-align: right;\n",
       "    }\n",
       "</style>\n",
       "<table border=\"1\" class=\"dataframe\">\n",
       "  <thead>\n",
       "    <tr style=\"text-align: right;\">\n",
       "      <th></th>\n",
       "      <th>N3</th>\n",
       "      <th>N4</th>\n",
       "      <th>N2</th>\n",
       "      <th>Distância</th>\n",
       "      <th>Ângulo</th>\n",
       "      <th>Label</th>\n",
       "    </tr>\n",
       "  </thead>\n",
       "  <tbody>\n",
       "    <tr>\n",
       "      <th>0</th>\n",
       "      <td>-0.905509</td>\n",
       "      <td>1.146136</td>\n",
       "      <td>1.538036</td>\n",
       "      <td>5</td>\n",
       "      <td>0</td>\n",
       "      <td>35</td>\n",
       "    </tr>\n",
       "    <tr>\n",
       "      <th>1</th>\n",
       "      <td>-0.434568</td>\n",
       "      <td>1.146136</td>\n",
       "      <td>1.370314</td>\n",
       "      <td>5</td>\n",
       "      <td>0</td>\n",
       "      <td>35</td>\n",
       "    </tr>\n",
       "    <tr>\n",
       "      <th>2</th>\n",
       "      <td>-0.277588</td>\n",
       "      <td>1.146136</td>\n",
       "      <td>1.202592</td>\n",
       "      <td>5</td>\n",
       "      <td>0</td>\n",
       "      <td>35</td>\n",
       "    </tr>\n",
       "    <tr>\n",
       "      <th>3</th>\n",
       "      <td>-1.219470</td>\n",
       "      <td>1.361629</td>\n",
       "      <td>1.370314</td>\n",
       "      <td>5</td>\n",
       "      <td>0</td>\n",
       "      <td>35</td>\n",
       "    </tr>\n",
       "    <tr>\n",
       "      <th>4</th>\n",
       "      <td>-1.219470</td>\n",
       "      <td>1.792615</td>\n",
       "      <td>1.370314</td>\n",
       "      <td>5</td>\n",
       "      <td>0</td>\n",
       "      <td>35</td>\n",
       "    </tr>\n",
       "  </tbody>\n",
       "</table>\n",
       "</div>"
      ],
      "text/plain": [
       "         N3        N4        N2  Distância  Ângulo  Label\n",
       "0 -0.905509  1.146136  1.538036          5       0     35\n",
       "1 -0.434568  1.146136  1.370314          5       0     35\n",
       "2 -0.277588  1.146136  1.202592          5       0     35\n",
       "3 -1.219470  1.361629  1.370314          5       0     35\n",
       "4 -1.219470  1.792615  1.370314          5       0     35"
      ]
     },
     "execution_count": 30,
     "metadata": {},
     "output_type": "execute_result"
    }
   ],
   "source": [
    "londres.head()"
   ]
  },
  {
   "cell_type": "code",
   "execution_count": 68,
   "metadata": {},
   "outputs": [
    {
     "data": {
      "text/plain": [
       "array([35., 35., 35., ..., 31., 31., 31.])"
      ]
     },
     "execution_count": 68,
     "metadata": {},
     "output_type": "execute_result"
    }
   ],
   "source": [
    "X = londres.values[:, :3]\n",
    "y = londres.values[:, -1]\n",
    "X\n",
    "y"
   ]
  },
  {
   "cell_type": "code",
   "execution_count": 72,
   "metadata": {},
   "outputs": [
    {
     "name": "stdout",
     "output_type": "stream",
     "text": [
      "[34.  6. 11.  7. 27.  6. 14. 16.  7.  3. 36.  6. 40. 12.  4. 24.  1.  0.\n",
      " 15. 10. 27. 38. 26.  2. 33.  3. 31. 20.  4. 26. 15. 35.  1. 29.  4. 19.\n",
      " 27. 16.  6. 10. 20. 11.  4. 29. 22. 15.  1.  8. 18. 28. 30. 27.  7.  6.\n",
      "  3. 15. 40.  2.  7. 21. 32. 26. 19. 16. 23. 41. 14.  6. 36. 10. 37. 31.\n",
      "  9. 22.  8. 20. 10. 27. 20.  9.  9.  7.  3.  1. 39. 36.  1.  1. 22. 12.\n",
      " 15. 29.  0. 11. 33. 26. 16.  9. 30. 24. 17. 24. 12. 32. 33. 35.  2. 17.\n",
      " 26. 18. 34. 19.  1. 23. 35. 11. 13. 28. 15. 19. 22. 41. 30.  1.  0.  0.\n",
      " 36.  1. 25. 29. 25. 35. 31. 25. 12. 17. 16. 30. 24. 20.  9. 27. 27.  5.\n",
      " 24. 40. 41.  0. 19. 18.  2. 19.  0. 38. 12. 23. 14. 34.  0. 30.  8.  4.\n",
      "  4.  8.  0.  7. 12. 40. 26. 26. 14.  8. 18. 15. 21. 17. 32. 22.  1. 13.\n",
      " 29. 22.  5. 28.  3.  2. 37. 19. 36. 32. 39. 35. 20.  5. 29. 11. 41.  8.\n",
      " 33.  5. 38. 26. 32.  7. 39.  4. 39. 37. 24. 11. 18.  0. 21.  2.  4.  7.\n",
      "  3. 37.  2. 36. 36. 39. 21. 24.  9. 10. 32. 10. 28. 26. 19. 15. 17. 25.\n",
      " 31. 37. 26.  9.  8.  2. 19.  4.  3. 12. 36. 29.  3. 40. 14. 17. 19.  8.\n",
      " 33. 12. 35. 25.  3. 10. 16.  3. 15. 34.  6. 25. 21. 39. 15. 26. 37. 27.\n",
      " 37. 11. 36. 28. 39. 38. 10. 11. 18. 20. 21. 37.  5. 10.  3.  4.  6.  4.\n",
      " 41. 11. 13.  1. 36. 39. 18. 29. 20. 26.  3.  6. 32.  6. 34. 25. 22.  1.\n",
      " 31. 40. 18. 37. 30. 41. 32. 13. 23. 26. 13. 30. 17.  9. 14.  2.  5. 27.\n",
      " 39.  6. 22.  1. 40. 18. 13.  6. 15. 25. 40. 12. 23. 19.  7. 35. 12. 30.\n",
      " 12. 29. 22. 20.  5.  5. 34. 14. 26. 40.  1. 36. 33. 16.  5. 33. 19. 19.\n",
      "  4. 37. 28.  2. 28. 26. 31.  1. 11.  6. 40. 38. 37.  2. 28.  7.  9. 34.\n",
      " 27. 24. 28. 13. 38. 39. 16. 35. 36. 23.  7. 20. 32. 36. 33. 33. 40. 26.\n",
      " 40. 40. 41.  0. 30. 18. 36. 24. 35. 40. 35.  8. 27. 23. 27.  9. 31. 38.\n",
      " 26.  9. 16. 16. 37.  9. 31.]\n"
     ]
    }
   ],
   "source": [
    "X_train, X_test, y_train, y_test = train_test_split(X, y, test_size=0.10)\n",
    "print(y_test)"
   ]
  },
  {
   "cell_type": "code",
   "execution_count": 55,
   "metadata": {},
   "outputs": [],
   "source": [
    "knn =  KNeighborsClassifier(n_neighbors=10)"
   ]
  },
  {
   "cell_type": "code",
   "execution_count": 56,
   "metadata": {},
   "outputs": [
    {
     "data": {
      "text/plain": [
       "KNeighborsClassifier(algorithm='auto', leaf_size=30, metric='minkowski',\n",
       "           metric_params=None, n_jobs=1, n_neighbors=10, p=2,\n",
       "           weights='uniform')"
      ]
     },
     "execution_count": 56,
     "metadata": {},
     "output_type": "execute_result"
    }
   ],
   "source": [
    "knn.fit(X_train,y_train)"
   ]
  },
  {
   "cell_type": "code",
   "execution_count": 57,
   "metadata": {},
   "outputs": [],
   "source": [
    "predicao = knn.predict(X_test)"
   ]
  },
  {
   "cell_type": "code",
   "execution_count": null,
   "metadata": {},
   "outputs": [],
   "source": []
  },
  {
   "cell_type": "code",
   "execution_count": 71,
   "metadata": {},
   "outputs": [
    {
     "name": "stdout",
     "output_type": "stream",
     "text": [
      "[ 7. 18. 38. 29. 30. 35.  5. 15. 23.  1. 22. 40. 19. 25. 20.  1. 36. 31.\n",
      " 31. 30. 23. 10. 12. 21. 19.  5. 22.  3. 17. 12. 33. 12. 28. 16. 15. 31.\n",
      " 39.  2. 20.  2. 33. 13. 19.  2. 13. 15. 35. 36. 20. 14. 36.  2. 36. 37.\n",
      " 26. 34. 18. 33.  3. 28. 19. 25. 29. 26.  1. 15.  6. 24. 37.  0. 38. 31.\n",
      "  9. 32.  2. 21. 18. 25. 19. 38. 38. 21. 30.  7. 13. 38. 20.  5. 14. 38.\n",
      " 24. 26. 19.  7. 19.  9. 13.  2. 30.  1.  9. 32. 24. 11. 39. 32. 26. 17.\n",
      " 31.  1.  1. 40.  6. 21. 38. 23. 36. 30. 27. 29.  7. 15. 32. 38. 20. 17.\n",
      " 24. 24. 24. 17. 13. 13. 38. 28. 35. 19. 37. 39. 15. 27. 26.  6. 41. 34.\n",
      " 40. 11. 40. 15.  1. 40. 27. 21. 20. 33. 30. 14. 19. 31.  3.  0. 31. 35.\n",
      " 23. 34.  3.  2. 24. 33. 15. 22. 23.  5. 22. 35. 33.  7. 10. 40. 30.  5.\n",
      " 15.  9. 37. 25. 27. 31. 14. 10. 32. 32. 17. 13. 17. 18. 17. 31. 17. 14.\n",
      " 22. 39.  7. 33. 23. 16. 12. 22.  8.  2.  0.  6. 36. 38. 28. 40. 36. 36.\n",
      " 12. 26. 35. 31. 34.  9. 29. 30.  1.  2.  8. 16. 34. 11.  1. 26. 23. 31.\n",
      " 27. 11. 41. 23.  9. 23. 23. 32. 34. 38. 18. 30. 20. 31. 25. 33. 41.  1.\n",
      " 34. 10. 39. 37. 32. 39. 17.  2.  9.  6. 38. 27. 10. 39. 40. 36.  1. 31.\n",
      " 17. 11. 27. 37.  1. 15. 36. 11. 11.  2. 30. 38. 13. 25. 27. 17. 32. 36.\n",
      " 15.  5. 24. 33. 27.  7.  7. 17. 23. 23. 24. 36. 34.  9. 35. 37. 34. 26.\n",
      "  2.  2. 11.  7. 27. 38. 36. 37. 28.  3.  9. 40. 12. 15. 26.  0. 33. 36.\n",
      "  9. 20.  3. 23. 28. 19. 18. 20. 23. 25. 12. 30.  7. 33. 34.  2. 38. 13.\n",
      " 11.  2.  9. 32. 34. 32. 31. 27. 11. 23. 23. 16. 21.  5. 40. 24. 25. 32.\n",
      " 37. 21. 17. 41. 12. 19. 39. 40. 15. 13. 24.  2. 10.  0. 35. 13. 36.  0.\n",
      " 40. 27. 25. 24. 30. 15. 20. 33. 17. 33.  0.  5. 11. 19. 17. 16. 41. 12.\n",
      " 30. 40. 37.  1. 15. 12. 41. 29. 25. 19. 27. 40.  4.  2. 21. 38. 40. 36.\n",
      "  4. 26. 39. 13. 39. 40. 13.]\n"
     ]
    }
   ],
   "source": [
    "from sklearn.metrics import confusion_matrix\n",
    "y_pred = knn.predict(X_test)\n",
    "print(y_pred)\n",
    "cmat = confusion_matrix(y_test, y_pred)"
   ]
  },
  {
   "cell_type": "code",
   "execution_count": 60,
   "metadata": {},
   "outputs": [
    {
     "data": {
      "text/plain": [
       "0.6437054631828979"
      ]
     },
     "execution_count": 60,
     "metadata": {},
     "output_type": "execute_result"
    }
   ],
   "source": [
    "knn.score(X_test, y_test) "
   ]
  },
  {
   "cell_type": "code",
   "execution_count": 61,
   "metadata": {},
   "outputs": [
    {
     "data": {
      "text/plain": [
       "<matplotlib.image.AxesImage at 0x7fa29bc99588>"
      ]
     },
     "execution_count": 61,
     "metadata": {},
     "output_type": "execute_result"
    },
    {
     "data": {
      "image/png": "[encoded data removed]",
      "text/plain": [
       "<Figure size 288x288 with 1 Axes>"
      ]
     },
     "metadata": {},
     "output_type": "display_data"
    }
   ],
   "source": [
    "plt.matshow(cmat, cmap='gray')"
   ]
  },
  {
   "cell_type": "code",
   "execution_count": null,
   "metadata": {},
   "outputs": [],
   "source": []
  }
 ],
 "metadata": {
  "kernelspec": {
   "display_name": "Python 3",
   "language": "python",
   "name": "python3"
  },
  "language_info": {
   "codemirror_mode": {
    "name": "ipython",
    "version": 3
   },
   "file_extension": ".py",
   "mimetype": "text/x-python",
   "name": "python",
   "nbconvert_exporter": "python",
   "pygments_lexer": "ipython3",
   "version": "3.6.5"
  }
 },
 "nbformat": 4,
 "nbformat_minor": 2
}
